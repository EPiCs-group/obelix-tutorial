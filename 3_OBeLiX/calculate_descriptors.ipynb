{
 "cells": [
  {
   "metadata": {},
   "cell_type": "markdown",
   "source": "",
   "id": "bd648a46cff2e683"
  },
  {
   "metadata": {},
   "cell_type": "markdown",
   "source": [
    "# OBeLiX - descriptor calculator tutorial\n",
    "By: Adarsh Kalikadien\n",
    "\n",
    "The source code for OBeLiX can be found at https://github.com/epics-group/obelix and the documentation is on the same page. \n",
    "\n",
    "In this tutorial, we will go through various stages of calculating descriptors. "
   ],
   "id": "4354504263941a38"
  },
  {
   "metadata": {
    "ExecuteTime": {
     "end_time": "2024-11-27T09:34:25.292772Z",
     "start_time": "2024-11-27T09:34:24.197789Z"
    }
   },
   "cell_type": "code",
   "source": [
    "import os\n",
    "\n",
    "import pandas as pd\n",
    "from obelix.descriptor_calculator import Descriptors"
   ],
   "id": "fd87d403a2f53957",
   "outputs": [],
   "execution_count": 1
  },
  {
   "metadata": {},
   "cell_type": "markdown",
   "source": "We start simple. We have XYZ files of our structures (metal center + NBD + bidentate ligand). The descriptor calculator uses a function called calculate_morfeus_descriptors() for these descriptors. It is also possible to print the steric map of the buried volume in this function. Try it out! ",
   "id": "c22ffb4b0b078cd5"
  },
  {
   "cell_type": "code",
   "id": "initial_id",
   "metadata": {
    "collapsed": true
   },
   "source": [
    "\n",
    "# calculate descriptors from xyz file\n",
    "\n",
    "descriptors = Descriptors(central_atom='Rh',\n",
    "                          path_to_workflow=os.path.join(os.getcwd(), 'xyz_files'),\n",
    "                          output_type='xyz')\n",
    "descriptors.calculate_morfeus_descriptors(geom_type='BD',\n",
    "                                          solvent=None,\n",
    "                                          printout=False,\n",
    "                                          metal_adduct='nbd', # 'pristine'\n",
    "                                          plot_steric_map=False)\n",
    "descriptors.descriptor_df.to_csv('xyz_descriptors.csv', index=False)"
   ],
   "outputs": [],
   "execution_count": null
  },
  {
   "metadata": {},
   "cell_type": "markdown",
   "source": [
    "The descriptors will be written to a csv file called xyz_descriptors.csv. \n",
    "Now, we can use this same function to calculate descriptors over a CREST conformer ensemble and boltzmann average them. Note, this implementation always boltzmann averages (using the xTB energy) all descriptors. However, on another branch (https://github.com/EPiCs-group/obelix/tree/confomer_searching_dev_final) of the Github repository we have a different implementation where the descriptors for each conformer individiually are calculated. "
   ],
   "id": "9e63f894f9c87ad"
  },
  {
   "metadata": {},
   "cell_type": "code",
   "outputs": [],
   "execution_count": null,
   "source": [
    "conformer_descriptors = Descriptors(central_atom='Rh',\n",
    "                                    path_to_workflow=os.path.join(os.getcwd()),\n",
    "                                    output_type='crest')\n",
    "conformer_descriptors.calculate_morfeus_descriptors(geom_type='BD',\n",
    "                                                    solvent=None,\n",
    "                                                    printout=False,\n",
    "                                                    metal_adduct='pristine')\n",
    "conformer_descriptors.descriptor_df.to_csv('conformer_descriptors.csv', index=False)"
   ],
   "id": "cdcd85209665a74"
  },
  {
   "metadata": {},
   "cell_type": "markdown",
   "source": [
    "You can see in conformer_descriptors.csv that the boltzmann average, standard deviation and variance per descriptor is calculated.\n",
    "\n",
    "Now, say that we have done DFT calculations on our structures. Now we can go to calculating the DFT descriptors. Examples of DFT log files can be found in the dft_log_files/ folder. \n",
    "In this case we use the calculate_dft_descriptors_from_log() function. This function makes use of calculate_morfeus_descriptors() and a DFTExtractor() class with its own functions to extract the descriptors from Gaussian log files. We can also extract the XYZ file of the optimized structure from the log file if needed."
   ],
   "id": "2c826286240b36ab"
  },
  {
   "metadata": {},
   "cell_type": "code",
   "source": [
    "path_to_dft_log_files = os.path.join(os.getcwd(), 'dft_log_files')\n",
    "dft_descriptors = Descriptors(central_atom='Rh',\n",
    "                              path_to_workflow=path_to_dft_log_files,\n",
    "                              output_type='gaussian')\n",
    "dft_descriptors.calculate_dft_descriptors_from_log(geom_type='BD',\n",
    "                                                   solvent=None,\n",
    "                                                   extract_xyz_from_log=True,\n",
    "                                                   printout=False,\n",
    "                                                   metal_adduct='nbd',\n",
    "                                                   plot_steric_map=False)\n",
    "dft_descriptors.descriptor_df.to_csv('DFT_descriptors.csv', index=False)"
   ],
   "id": "c08d400cff1f8b41",
   "outputs": [],
   "execution_count": null
  },
  {
   "metadata": {},
   "cell_type": "markdown",
   "source": [
    "If you check DFT_descriptors.csv, next to the block of NBD and Morfeus descriptors, there is also a block of DFT-based descriptors.\n",
    "\n",
    "Can you now check how descriptors from the xyz_descriptors.csv have changed with respect to the DFT_descriptors.csv? How would you visualize this? Perform this analysis in the code block below, use of AI assistance is allowed :)"
   ],
   "id": "926f69624b9e3d6d"
  },
  {
   "metadata": {},
   "cell_type": "code",
   "outputs": [],
   "execution_count": null,
   "source": "",
   "id": "ba231a6c39d7f8e9"
  },
  {
   "metadata": {},
   "cell_type": "markdown",
   "source": [
    "We have calculated descriptors of the metal-ligand complex, but we also want to calculate descriptors on the free ligand without influence from the metal and susbstrate. \n",
    "We use the molecular_graph() of obelix, that is used to find the ligand atoms in a complex, to extract the free ligand as an XYZ file. The comment line of this XYZ file contains the atom number of donor 1 and donor 2 in both the complex and the free ligand. This makes it easier for us to match the min/max donor labelling later."
   ],
   "id": "739f5de9c7c079f8"
  },
  {
   "metadata": {},
   "cell_type": "code",
   "source": [
    "# extract free ligand from Gaussian log file\n",
    "# iterate over log files and extract the free ligand as an xyz file\n",
    "from tqdm import tqdm\n",
    "from morfeus.io import read_cclib, write_xyz\n",
    "from obelix.molecular_graph import molecular_graph\n",
    "import glob\n",
    "\n",
    "path_to_dft_log_files = os.path.join(os.getcwd(), 'dft_log_files')\n",
    "complexes_to_calc_descriptors = glob.glob(os.path.join(path_to_dft_log_files, '*.log'))\n",
    "dictionary_for_properties = {}\n",
    "\n",
    "for metal_ligand_complex in tqdm(complexes_to_calc_descriptors):\n",
    "    ########## read the file name, coordinates and elements from a log file\n",
    "    elements, coordinates = read_cclib(metal_ligand_complex)\n",
    "    if not len(coordinates[-1]) == 3:\n",
    "        coordinates = coordinates[-1]\n",
    "    base_with_extension = os.path.basename(metal_ligand_complex)\n",
    "    split_base = os.path.splitext(base_with_extension)\n",
    "    filename = split_base[0]\n",
    "    ##########\n",
    "    # extract the free ligand from the complex' log file \n",
    "    molecular_graph(elements=elements, coordinates=coordinates, extract_ligand=True, path_to_workflow=path_to_dft_log_files, filename=filename)"
   ],
   "id": "8a999efbb488922",
   "outputs": [],
   "execution_count": null
  },
  {
   "metadata": {},
   "cell_type": "markdown",
   "source": [
    "After extracting the free ligand as 'free_ligand_L*.xyz' we can use it to do a DFT single-point calculation. \n",
    "\n",
    "When DFT single-point calculations are done, the xyz and the log file of the free ligand should be placed in the same location. An example can be found in the free_ligand/ folder. Now we can use the information about the donor atoms from the free ligand to match it with the descriptors of the complex that we calculated. This ensures that we keep the same orientation of our descriptors. Finally, we create a free_ligand_descriptors.csv with the descriptors of the free ligand that match the orientation of the complex."
   ],
   "id": "8f76a81eec1afea5"
  },
  {
   "metadata": {},
   "cell_type": "code",
   "source": [
    "# calculate free ligand descriptors\n",
    "from obelix.free_ligand import FreeLigand\n",
    "from obelix.tools.utilities import dataframe_from_dictionary\n",
    "\n",
    "ligand_number_list = ['L9', 'L10']\n",
    "dictionary_for_properties = {}\n",
    "complex_descriptors_df = pd.read_csv('DFT_descriptors.csv')\n",
    "\n",
    "for ligand_number in ligand_number_list:\n",
    "    path_to_free_ligand_files = os.path.join('free_ligand')\n",
    "    free_ligand = FreeLigand(path_to_workflow=path_to_free_ligand_files,\n",
    "                             xyz_filename=f'free_ligand_{ligand_number}.xyz',\n",
    "                             dft_log_file=f'free_ligand_{ligand_number}_SP.log')\n",
    "    # read the min/max donor indices from the excel file and match them with free_ligand.complex_xyz_bidentate_1_idx and free_ligand.complex_xyz_bidentate_2_idx\n",
    "    # if complex_xyz_bidentate_1 is min donor, then free_ligand_xyz_bidentate_1 is min donor for our free ligand class\n",
    "    # first check if index_donor_min from excel is equal to complex_xyz_bidentate_1_idx or complex_xyz_bidentate_2_idx\n",
    "    complex_bidentate_min_donor_idx = \\\n",
    "        complex_descriptors_df.loc[complex_descriptors_df['filename_tud'] == ligand_number, 'index_donor_min'].values[0]\n",
    "    if complex_bidentate_min_donor_idx == free_ligand.complex_xyz_bidentate_1_idx:\n",
    "        # if this is true, then the free ligand bidentate 1 is the min donor\n",
    "        free_ligand.min_donor_idx = free_ligand.free_ligand_xyz_bidentate_1_idx\n",
    "        free_ligand.max_donor_idx = free_ligand.free_ligand_xyz_bidentate_2_idx\n",
    "    else:\n",
    "        # otherwise the free ligand bidentate 2 is the min donor\n",
    "        free_ligand.min_donor_idx = free_ligand.free_ligand_xyz_bidentate_2_idx\n",
    "        free_ligand.max_donor_idx = free_ligand.free_ligand_xyz_bidentate_1_idx\n",
    "\n",
    "    free_ligand.initialize_dft_extractor(free_ligand.dft_log_file, None, free_ligand.min_donor_idx,\n",
    "                                         free_ligand.max_donor_idx, metal_adduct='pristine')\n",
    "    # free_ligand.assign_min_max_donor_dft()\n",
    "    properties = free_ligand.calculate_dft_descriptors()\n",
    "    dictionary_for_properties[ligand_number] = properties\n",
    "new_descriptor_df = dataframe_from_dictionary(dictionary_for_properties)\n",
    "# reset the index and name that column to 'Ligand#' for consistency with the complex descriptor df\n",
    "new_descriptor_df = new_descriptor_df.reset_index().rename(columns={'index': 'Ligand#'})\n",
    "new_descriptor_df.to_csv('free_ligand_descriptors.csv', index=False)"
   ],
   "id": "2b4f78e82d2ee500",
   "outputs": [],
   "execution_count": null
  },
  {
   "metadata": {},
   "cell_type": "markdown",
   "source": "Now you can merge the DFT_descriptors.csv and free_ligand_descriptors.csv to get a DFT-based representation of your catalyst for ML.",
   "id": "79751e55c55eec8d"
  },
  {
   "metadata": {},
   "cell_type": "code",
   "outputs": [],
   "execution_count": null,
   "source": "",
   "id": "19eaa090db941e01"
  }
 ],
 "metadata": {
  "kernelspec": {
   "display_name": "Python 3",
   "language": "python",
   "name": "python3"
  },
  "language_info": {
   "codemirror_mode": {
    "name": "ipython",
    "version": 2
   },
   "file_extension": ".py",
   "mimetype": "text/x-python",
   "name": "python",
   "nbconvert_exporter": "python",
   "pygments_lexer": "ipython2",
   "version": "2.7.6"
  }
 },
 "nbformat": 4,
 "nbformat_minor": 5
}
