{
 "cells": [
  {
   "metadata": {},
   "cell_type": "markdown",
   "source": [
    "# ChemSpaX tutorial\n",
    "By: Adarsh Kalikadien\n",
    "\n",
    "The source code for ChemSpaX can be found at https://github.com/EPiCs-group/chemspax and the documentation is on the same page. \n",
    "\n",
    "In this example we will use ChemSpaX to place functional groups on indicated sites of the structure in the skeletons/ folder.  "
   ],
   "id": "1a3111a58d619716"
  },
  {
   "cell_type": "code",
   "id": "initial_id",
   "metadata": {
    "collapsed": true,
    "ExecuteTime": {
     "end_time": "2024-11-27T09:09:56.262225Z",
     "start_time": "2024-11-27T09:09:55.511060Z"
    }
   },
   "source": [
    "# import the necessary packages from the obelix environment\n",
    "import os\n",
    "import glob\n",
    "import warnings\n",
    "warnings.simplefilter(action='ignore', category=FutureWarning)\n",
    "\n",
    "import chemspax\n",
    "from chemspax.main import main"
   ],
   "outputs": [],
   "execution_count": 1
  },
  {
   "metadata": {},
   "cell_type": "markdown",
   "source": [
    "For each skeleton, ChemSpaX needs the .mol and .xyz file to keep the bonding information about a structure. \n",
    "\n",
    "The functionalization sites of the skeleton are either indicated by a list in the comment section of the xyz file, or by placing Br atoms on the skeleton where you want functional groups to be placed. \n",
    "\n",
    "In the example below we are taking the Co-porphyrin structure in skeletons/, which has 4 indicated sites for functionalization. We indicate in substituent_list that we want to replace the Br atoms with CH3 groups."
   ],
   "id": "d6c7a3b9e3e692ba"
  },
  {
   "metadata": {
    "ExecuteTime": {
     "end_time": "2024-11-27T09:09:57.495633Z",
     "start_time": "2024-11-27T09:09:57.490194Z"
    }
   },
   "cell_type": "code",
   "source": [
    "# this will show a list of all available substituents in ChemSpaX\n",
    "current_directory = os.getcwd()\n",
    "path_to_substituents = os.path.join(os.path.dirname(chemspax.__file__), 'substituents_xyz', 'manually_generated') # do not change\n",
    "print(\"Available substituents: \")\n",
    "list_of_substituents = []\n",
    "for file in glob.glob(os.path.join(path_to_substituents, \"*.xyz\")):\n",
    "    list_of_substituents.append(os.path.basename(file)[:-4])\n",
    "    print(os.path.basename(file)[:-4])\n",
    "# print(len(list_of_substituents))"
   ],
   "id": "564b1f5184d19bd2",
   "outputs": [
    {
     "name": "stdout",
     "output_type": "stream",
     "text": [
      "Available substituents: \n",
      "C2H5NOH\n",
      "NO2\n",
      "NHCl\n",
      "CH2OCH3\n",
      "C6H6\n",
      "C6H6-CH3_meta_1\n",
      "CH4N2OH\n",
      "C6H6-NH2_meta_1\n",
      "F\n",
      "NHBr\n",
      "n-butane\n",
      "CHCl2\n",
      "CCl2F\n",
      "CH2CF3\n",
      "OH\n",
      "C6H6-NH2_meta_1_2\n",
      "CCCl3CCl3CCl3\n",
      "CHCH3OCH3\n",
      "Br\n",
      "CO2H\n",
      "NC2H6\n",
      "C6H6-CH3_para\n",
      "NH2\n",
      "C6H6-NH2_meta_2\n",
      "2-octanol\n",
      "CF3\n",
      "CH4N2ONH2\n",
      "CCH3CH3OCH3\n",
      "C6H6-CH3_ortho_1_2\n",
      "CCH3CH3CH3\n",
      "C2H5NOCH3\n",
      "C6H12\n",
      "C6F6\n",
      "CH2ONH2\n",
      "CO3H3\n",
      "NHCH3\n",
      "PH3\n",
      "CHF2\n",
      "C6H6-NH2_para\n",
      "CCF3CF3CF3\n",
      "CClF2\n",
      "CH2Cl\n",
      "CHBr2\n",
      "NBr2\n",
      "CHCH3ONH2\n",
      "CHO2H2\n",
      "C6F12\n",
      "n-octane\n",
      "CH2F\n",
      "sulfonyl\n",
      "H\n",
      "CF2OH\n",
      "CH3\n",
      "C6H6-NH2_ortho_2\n",
      "CBr3\n",
      "Cl\n",
      "CHFOH\n",
      "C6H6-CH3_ortho_2\n",
      "C6H6-CH3_meta_2\n",
      "sulfonyl-chloride\n",
      "n-pentane\n",
      "CH2CH3\n",
      "CCH3CH3OH\n",
      "CH4N2OCH3\n",
      "CCl3\n",
      "C6H6-NH2_ortho_1\n",
      "CH2CH3CH3\n",
      "C6H6-NH2_ortho_1_2\n",
      "CH2CF3CF3\n",
      "CH2OH\n",
      "CCCl3CCl3OH\n",
      "CH2Br\n",
      "1-octanol\n",
      "NHF\n",
      "C2H5NONH2\n",
      "C6H6-CH3_ortho_1\n",
      "NF2\n",
      "CHCH3OH\n",
      "C6H6-CH3_meta_1_2\n",
      "CCH3CH3ONH2\n"
     ]
    }
   ],
   "execution_count": 2
  },
  {
   "metadata": {
    "ExecuteTime": {
     "end_time": "2024-11-15T11:57:10.169690Z",
     "start_time": "2024-11-15T11:57:08.455314Z"
    }
   },
   "cell_type": "code",
   "source": [
    "path_to_database = os.path.join(path_to_substituents, \"central_atom_centroid_database.csv\") # do not change\n",
    "\n",
    "substituent_list = [\"CH3\", \"CH3\", \"CH3\", \"CH3\"] # change to functional groups that are available in ChemSpaX\n",
    "skeleton_list = glob.glob(os.path.join(current_directory, \"skeletons\", \"*.xyz\")) # do not change\n",
    "path_to_skeletons = os.path.join(current_directory, \"skeletons\") # do not change\n",
    "working_directory = current_directory # do not change \n",
    "path_to_output = os.path.join(current_directory, \"functionalized_skeletons\") # do not change\n",
    "main(skeleton_list, substituent_list, path_to_database, path_to_substituents, path_to_skeletons, working_directory, path_to_output) # do not change\n",
    "\n",
    "# clean up, comment this part if you want to see the intermediately generated structures\n",
    "# remove all xyz files in functionalized_skeletons\n",
    "for file in glob.glob(os.path.join(path_to_output, \"*.xyz\")):\n",
    "    os.remove(file)\n",
    "# keep only the .mol file of the final structure\n",
    "for file in glob.glob(os.path.join(path_to_output, \"*.mol\")):\n",
    "    if not f\"_func_{len(substituent_list)}\" in file:\n",
    "        os.remove(file)"
   ],
   "id": "9a9ccdee4833ef0e",
   "outputs": [],
   "execution_count": 4
  },
  {
   "metadata": {},
   "cell_type": "markdown",
   "source": [
    "Check out the chemspax.log file to see what your code did!\n",
    "\n",
    "Now vary the placed substituents and try to add more skeletons to the skeletons/ folder (see https://github.com/EPiCs-group/chemspax/tree/master/chemspax/skeletons_temp or https://github.com/EPiCs-group/chemspax/tree/master/chemspax/skeletons for examples)"
   ],
   "id": "d54a15ccca4af77"
  },
  {
   "metadata": {},
   "cell_type": "code",
   "outputs": [],
   "execution_count": null,
   "source": "",
   "id": "78d27d951d1f675a"
  }
 ],
 "metadata": {
  "kernelspec": {
   "display_name": "Python 3",
   "language": "python",
   "name": "python3"
  },
  "language_info": {
   "codemirror_mode": {
    "name": "ipython",
    "version": 2
   },
   "file_extension": ".py",
   "mimetype": "text/x-python",
   "name": "python",
   "nbconvert_exporter": "python",
   "pygments_lexer": "ipython2",
   "version": "2.7.6"
  }
 },
 "nbformat": 4,
 "nbformat_minor": 5
}
