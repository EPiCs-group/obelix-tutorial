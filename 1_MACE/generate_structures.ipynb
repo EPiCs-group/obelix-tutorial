{
 "cells": [
  {
   "metadata": {},
   "cell_type": "markdown",
   "source": [
    "# MACE tutorial\n",
    "By: Adarsh Kalikadien\n",
    "\n",
    "The source code for MACE can be found at https://github.com/EPiCs-group/epic-mace and the documentation at https://epic-mace.readthedocs.io/en/latest/.\n",
    "\n",
    "In this tutorial, we will use MACE to generate square planar and octahedral complexes from the SMILES of the ligands"
   ],
   "id": "fd1c0b43864f6e72"
  },
  {
   "metadata": {
    "ExecuteTime": {
     "end_time": "2024-11-27T08:56:58.483171Z",
     "start_time": "2024-11-27T08:56:58.133345Z"
    }
   },
   "cell_type": "code",
   "source": [
    "# import the necessary packages from the obelix environment\n",
    "import mace\n",
    "import os"
   ],
   "id": "55b01ce58c374018",
   "outputs": [],
   "execution_count": 1
  },
  {
   "metadata": {},
   "cell_type": "markdown",
   "source": [
    "First, we start with generating a square planar complex. First we define a bidentate ligand and a name for this ligand. Notice how I modified the SMILES of the ligand to contain a label (e.g. '[P:1]' meaning that that P atom has a label 1 in the SMILES) for the donor atoms of the ligand. In this case we are only creating structures for 1 bidentate ligand at a time, but the list can be filled with multiple ligands if you want to do a screening. \n",
    "\n",
    "In the for loop, we define auxillary ligands next to the bidentate ligand, the metal center and the type of geometry (square planar). We let MACE create the stereomers, do a FF-based RDKit conformer search and finally write the conformer with the lowest energy to an xyz file."
   ],
   "id": "f81b5d0fec34942b"
  },
  {
   "metadata": {},
   "cell_type": "code",
   "source": [
    "# example of SP structure generation with a bidentate ligand\n",
    "list_of_ligands = ['CCCCOC(=O)N1CC(CC1C[P:1](C2=CC=CC=C2)C3=CC=CC=C3)[P:1](C4=CC=CC=C4)C5=CC=CC=C5']\n",
    "list_of_names = ['BPPM']\n",
    "\n",
    "# this is a loop for SP structures\n",
    "for index, ligand in enumerate(list_of_ligands):\n",
    "    ligands = [ligand, \"[C-:1]#[O+]\", 'CC#[N:1]']\n",
    "    CA = '[Rh+]'  # SMILES of central atom\n",
    "    geom = 'SP'\n",
    "\n",
    "    X = mace.ComplexFromLigands(ligands, CA, geom)\n",
    "    Xs = X.GetStereomers(regime='all', dropEnantiomers=True)\n",
    "    print(f'{geom} Stereomers for ligand {list_of_names[index]}:', len(Xs))\n",
    "\n",
    "    for i, X in enumerate(Xs):\n",
    "        X.AddConformers(numConfs=10)\n",
    "        X.ToXYZ(f'{list_of_names[index]}_{i}.xyz', confId='min')"
   ],
   "id": "initial_id",
   "outputs": [],
   "execution_count": null
  },
  {
   "metadata": {},
   "cell_type": "markdown",
   "source": "Now we create an octahedral complex with a tridentate ligand. The code looks the same except now we use a different metal center and geom variable.",
   "id": "34f86ba044f6a78e"
  },
  {
   "metadata": {},
   "cell_type": "code",
   "outputs": [],
   "execution_count": null,
   "source": [
    "# example of OH structure generation\n",
    "list_of_ligands = [\"C[N:1](CC[N+]1=[C-:1]N(C=C1)C1=C(C)C=C(C)C=C1C)CC1=CC=CC=C1[P:1](C1=CC=CC=C1)C1=CC=CC=C1\"]\n",
    "list_of_names = ['MnCNP_CNP']\n",
    "\n",
    "# this is a loop for OH structures\n",
    "for index, ligand in enumerate(list_of_ligands):\n",
    "    ligands = [ligand, \"[C-:1]#[O+]\", \"[C-:1]#[O+]\", \"[C-:1]#[O+]\"]\n",
    "    CA = '[Mn+]'  # SMILES of central atom\n",
    "    geom = 'OH'\n",
    "\n",
    "    X = mace.ComplexFromLigands(ligands, CA, geom)\n",
    "    Xs = X.GetStereomers(regime='all', dropEnantiomers=True)\n",
    "    print(f'{geom} Stereomers for ligand {list_of_names[index]}:', len(Xs))\n",
    "\n",
    "    for i, X in enumerate(Xs):\n",
    "        X.AddConformers(numConfs=10)\n",
    "        X.ToXYZ(f'{list_of_names[index]}_{i}.xyz', confId='min')"
   ],
   "id": "584f631eb44663d9"
  },
  {
   "metadata": {},
   "cell_type": "markdown",
   "source": "Now create your own complexes, perhaps with a tetradentate ligand?",
   "id": "5246f9ab6fe35050"
  },
  {
   "metadata": {},
   "cell_type": "code",
   "outputs": [],
   "execution_count": null,
   "source": "",
   "id": "ade83e1728ed9a5a"
  }
 ],
 "metadata": {
  "kernelspec": {
   "display_name": "Python 3",
   "language": "python",
   "name": "python3"
  },
  "language_info": {
   "codemirror_mode": {
    "name": "ipython",
    "version": 2
   },
   "file_extension": ".py",
   "mimetype": "text/x-python",
   "name": "python",
   "nbconvert_exporter": "python",
   "pygments_lexer": "ipython2",
   "version": "2.7.6"
  }
 },
 "nbformat": 4,
 "nbformat_minor": 5
}
